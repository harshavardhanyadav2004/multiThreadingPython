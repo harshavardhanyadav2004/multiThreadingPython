{
 "cells": [
  {
   "cell_type": "code",
   "execution_count": 1,
   "metadata": {},
   "outputs": [
    {
     "name": "stdout",
     "output_type": "stream",
     "text": [
      "One : Tue Jan 16 12:13:21 2024 \n",
      "Two : Tue Jan 16 12:13:22 2024 \n",
      "One : Tue Jan 16 12:13:22 2024 \n",
      "One : Tue Jan 16 12:13:23 2024 \n",
      "Two : Tue Jan 16 12:13:24 2024 \n",
      "One : Tue Jan 16 12:13:24 2024 \n",
      "One : Tue Jan 16 12:13:25 2024 \n",
      "Two : Tue Jan 16 12:13:26 2024 \n",
      "Two : Tue Jan 16 12:13:28 2024 \n",
      "Two : Tue Jan 16 12:13:30 2024 \n"
     ]
    }
   ],
   "source": [
    "import _thread\n",
    "import time\n",
    "class myThread :\n",
    "    def display(self,name, delay):\n",
    "        count = 0\n",
    "        while count < 5:\n",
    "            time.sleep(delay)\n",
    "            print(\"%s : %s \"%(name,time.ctime(time.time())))\n",
    "            count+=1\n",
    "try:\n",
    "    obj = myThread()\n",
    "    _thread.start_new_thread(obj.display,(\"One\",1))\n",
    "    _thread.start_new_thread(obj.display,(\"Two\",2))\n",
    "except:\n",
    "    print(\"Thread run cancelled\")\n",
    "        "
   ]
  },
  {
   "cell_type": "code",
   "execution_count": 5,
   "metadata": {},
   "outputs": [],
   "source": [
    "import threading \n",
    "class myThread(threading.Thread):\n",
    "    def __init__(self,name,delay):\n",
    "      threading.Thread.__init__(self)\n",
    "      self.name = name \n",
    "      self.delay = delay \n",
    "    def run(self) -> None:\n",
    "        count=0\n",
    "        while count < 5:\n",
    "            time.sleep(1)\n",
    "            count+=1\n",
    "thread1 = myThread(\"One\",1)\n",
    "thread2 = myThread(\"two\",2)\n",
    "thread1.start()\n",
    "thread2.start()\n",
    "thread1.join()\n",
    "thread2.join()\n",
    "    \n",
    "    "
   ]
  },
  {
   "cell_type": "code",
   "execution_count": 7,
   "metadata": {},
   "outputs": [
    {
     "name": "stdout",
     "output_type": "stream",
     "text": [
      "One_Thread : 0\n",
      "One_Thread : 1\n",
      "One_Thread : 2\n",
      "One_Thread : 3\n",
      "One_Thread : 4\n",
      "Two_thread : 0\n",
      "Two_thread : 1\n",
      "Two_thread : 2\n",
      "Two_thread : 3\n",
      "One_Thread : 0\n",
      "One_Thread : 1\n",
      "One_Thread : 2\n",
      "One_Thread : 3\n",
      "One_Thread : 4\n",
      "Two_thread : 0\n",
      "Two_thread : 1\n",
      "Two_thread : 2\n",
      "Two_thread : 3\n"
     ]
    }
   ],
   "source": [
    "from collections.abc import Callable, Iterable, Mapping\n",
    "import threading\n",
    "import time\n",
    "from typing import Any \n",
    "class displayThread(threading.Thread):\n",
    "    def __init__(self,name , delay):\n",
    "        threading.Thread.__init__(self)\n",
    "        self.name = name \n",
    "        self.delay = delay\n",
    "    def run(self) -> None:\n",
    "        i = 0\n",
    "        while i < self.delay: \n",
    "            print(\"%s : %s\"%(self.name, i))\n",
    "            i+=1\n",
    "object1 = displayThread(\"One_Thread\",5)\n",
    "object2 = displayThread(\"Two_thread\",)\n",
    "object1.start()\n",
    "object2.start()\n",
    "object1.run()\n",
    "object2.run()    "
   ]
  },
  {
   "cell_type": "code",
   "execution_count": 11,
   "metadata": {},
   "outputs": [
    {
     "name": "stdout",
     "output_type": "stream",
     "text": [
      "SecondThread : Tue Jan 16 12:39:53 2024\n",
      "FirstThread : Tue Jan 16 12:39:53 2024\n"
     ]
    },
    {
     "name": "stdout",
     "output_type": "stream",
     "text": [
      "FirstThread : Tue Jan 16 12:39:54 2024\n",
      "SecondThread : Tue Jan 16 12:39:55 2024\n",
      "FirstThread : Tue Jan 16 12:39:55 2024\n",
      "FirstThread : Tue Jan 16 12:39:56 2024\n",
      "SecondThread : Tue Jan 16 12:39:57 2024\n",
      "FirstThread : Tue Jan 16 12:39:57 2024\n",
      "SecondThread : Tue Jan 16 12:39:59 2024\n",
      "SecondThread : Tue Jan 16 12:40:01 2024\n"
     ]
    }
   ],
   "source": [
    "import _thread\n",
    "import time  \n",
    "class anotherThread:\n",
    "    def display(self,name,delay):\n",
    "        i=0\n",
    "        while i < 5 :\n",
    "            print(\"%s : %s\"%(name,time.ctime(time.time())))\n",
    "            time.sleep(delay)\n",
    "            i+=1\n",
    "try:\n",
    "    obj = anotherThread() \n",
    "    _thread.start_new_thread(obj.display,(\"FirstThread\",1))\n",
    "    _thread.start_new_thread(obj.display,(\"SecondThread\",2))\n",
    "except:\n",
    "    print(\"The thread is cancelled\")    "
   ]
  },
  {
   "cell_type": "code",
   "execution_count": 12,
   "metadata": {},
   "outputs": [
    {
     "name": "stdout",
     "output_type": "stream",
     "text": [
      "KRISHNA  : 0\n",
      "VARDHAN : 0\n",
      "KRISHNA  : 1\n",
      "VARDHAN : 1\n",
      "KRISHNA  : 2\n",
      "VARDHAN : 2\n",
      "KRISHNA  : 3\n",
      "VARDHAN : 3\n",
      "KRISHNA  : 4\n",
      "VARDHAN : 4\n",
      "Is the thread alive False\n",
      "Is the thread not alive False\n"
     ]
    }
   ],
   "source": [
    "import threading\n",
    "class myThread(threading.Thread):\n",
    "    def __init__(self,name , delay):\n",
    "        threading.Thread.__init__(self)\n",
    "        self.name = name \n",
    "        self.delay = delay \n",
    "    def run(self):\n",
    "        i = 0\n",
    "        while i < 5:\n",
    "            print(\"%s : %s\"%(self.name, i))\n",
    "            time.sleep(1)\n",
    "            i+=1\n",
    "obj1 = myThread(\"KRISHNA \",5)\n",
    "obj2 = myThread(\"VARDHAN\",5)\n",
    "obj1.start()\n",
    "obj2.start()\n",
    "obj1.join()\n",
    "obj2.join()\n",
    "print(\"Is the thread alive\",obj1.is_alive())\n",
    "print(\"Is the thread not alive\",obj2.is_alive())    "
   ]
  },
  {
   "cell_type": "code",
   "execution_count": 3,
   "metadata": {},
   "outputs": [
    {
     "name": "stdout",
     "output_type": "stream",
     "text": [
      "The one has started\n",
      "one : 0\n",
      "one : 1\n",
      "one : 2\n",
      "one : 3\n",
      "one : 4\n",
      "The one has terminated\n",
      "The two has started\n",
      "two : 0\n",
      "two : 1\n",
      "two : 2\n",
      "two : 3\n",
      "two : 4\n",
      "The two has terminated\n"
     ]
    }
   ],
   "source": [
    "import threading \n",
    "import time \n",
    "class deadLock(threading.Thread):\n",
    "    def __init__(self,name , count):\n",
    "        threading.Thread.__init__(self)\n",
    "        self.name = name \n",
    "        self.count = count \n",
    "    def run(self):\n",
    "        print(\"The\",self.name, \"has started\")\n",
    "        self.display()\n",
    "        print(\"The\",self.name,\"has terminated\")\n",
    "    def display(self):\n",
    "        i=0\n",
    "        while i < self.count:\n",
    "            Lock.acquire()\n",
    "            print(\"%s : %s\"%(self.name , str(i)))\n",
    "            Lock.release()   \n",
    "            i+=1\n",
    "Lock = threading.Lock()\n",
    "firstThread = deadLock(\"one\",5)\n",
    "secondThread = deadLock(\"two\",5)\n",
    "firstThread.start()\n",
    "secondThread.start()\n",
    "firstThread.join()\n",
    "secondThread.join()"
   ]
  },
  {
   "cell_type": "code",
   "execution_count": 21,
   "metadata": {},
   "outputs": [
    {
     "name": "stdout",
     "output_type": "stream",
     "text": [
      "The thread name is  7\n",
      "The thread  name is  hARSHA\n",
      "The thread name is  myThread\n"
     ]
    }
   ],
   "source": [
    "import threading  \n",
    "class myClass(threading.Thread):\n",
    "    def __init__(self,name):\n",
    "        threading.Thread.__init__(self)\n",
    "        self.name = name \n",
    "    def run(self) -> None:\n",
    "         self.displayDetails()\n",
    "    def displayDetails(self):\n",
    "        print(\"The thread name is \",threading.active_count())\n",
    "        print(\"The thread  name is \",self.name)\n",
    "        self.name = \"myThread\"\n",
    "        print(\"The thread name is \",self.name)\n",
    "obj1 = myClass(\"hARSHA\")\n",
    "obj1.start()\n",
    "obj1.join()"
   ]
  }
 ],
 "metadata": {
  "kernelspec": {
   "display_name": "base",
   "language": "python",
   "name": "python3"
  },
  "language_info": {
   "codemirror_mode": {
    "name": "ipython",
    "version": 3
   },
   "file_extension": ".py",
   "mimetype": "text/x-python",
   "name": "python",
   "nbconvert_exporter": "python",
   "pygments_lexer": "ipython3",
   "version": "3.11.5"
  }
 },
 "nbformat": 4,
 "nbformat_minor": 2
}
